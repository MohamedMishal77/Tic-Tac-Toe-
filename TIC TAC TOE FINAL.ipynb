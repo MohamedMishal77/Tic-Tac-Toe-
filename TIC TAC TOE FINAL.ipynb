{
 "cells": [
  {
   "cell_type": "markdown",
   "id": "d25b93ed-7fa7-47b0-a0af-b90c842d2f1f",
   "metadata": {},
   "source": [
    "## Tic Tac Toe"
   ]
  },
  {
   "cell_type": "markdown",
   "id": "6bcc3f2f-9a44-4924-9dfe-8d188b5931a8",
   "metadata": {},
   "source": [
    "### This Function allows player X to make the move"
   ]
  },
  {
   "cell_type": "code",
   "execution_count": 18,
   "id": "eca7a516-2173-46d5-a2df-4bd6462ab4a1",
   "metadata": {},
   "outputs": [],
   "source": [
    "def player_choice_x():\n",
    "    row = \"wrong\"\n",
    "    while row not in ['1','2','3']:\n",
    "        row = input(\"Enter the row you want to place (1,2 or 3:\")\n",
    "        if row not in  ['1','2','3']:\n",
    "            print (\"WRONG CHOICE!!!...Chose row values between (1-3):\")\n",
    "    row_choice = int(row)\n",
    "    col = \"wrng\"\n",
    "    while col not in ['1','2','3']:\n",
    "        col = input(\"Enter the col you want to place (1,2 or 3:\")\n",
    "        if row not in ['1','2','3']:\n",
    "            print (\"WRONG CHOICE!!!...Chose col values between (1-3):\")\n",
    "    col_choice= int(col)\n",
    "    return row_choice,col_choice"
   ]
  },
  {
   "cell_type": "markdown",
   "id": "47445e36-cc50-4232-9450-df0028eea943",
   "metadata": {},
   "source": [
    "### This Function allows player O to make the move"
   ]
  },
  {
   "cell_type": "code",
   "execution_count": 19,
   "id": "40c71c50-c12b-4e52-8e7f-7cbe9d03b6b9",
   "metadata": {},
   "outputs": [],
   "source": [
    "def player_choice_o():\n",
    "    row = \"wrong\"\n",
    "    while row not in ['1','2','3']:\n",
    "        row = input(\"Enter the row you want to place (1,2 or 3:\")\n",
    "        if row not in  ['1','2','3']:\n",
    "            print (\"WRONG CHOICE!!!...Chose row values between (1-3):\")\n",
    "    row_choice = int(row)\n",
    "    col = \"wrng\"\n",
    "    while col not in ['1','2','3']:\n",
    "        col = input(\"Enter the col you want to place (1,2 or 3:\")\n",
    "        if row not in ['1','2','3']:\n",
    "            print (\"WRONG CHOICE!!!...Chose col values between (1-3):\")\n",
    "    col_choice= int(col)\n",
    "    return row_choice,col_choice"
   ]
  },
  {
   "cell_type": "markdown",
   "id": "4a4a51a5-ab8f-44ac-9fb0-c18ec095cb23",
   "metadata": {},
   "source": [
    "### This Function is used to place X on the board"
   ]
  },
  {
   "cell_type": "code",
   "execution_count": 20,
   "id": "c724fe79-6a16-496e-a2d9-18b1f966cae0",
   "metadata": {},
   "outputs": [],
   "source": [
    "def placement_of_x(x,y):\n",
    "    y-=1\n",
    "    if x==1:\n",
    "        if row_1[y]==\" \":\n",
    "            row_1[y]=\"X\"\n",
    "        else:\n",
    "            print(\"POSITION ALREADY OCCUPIED !!.....KINDLY CHOOSE ANOTHER SLOT\")\n",
    "            x,y=player_choice_x()\n",
    "            placement_of_x(x,y)\n",
    "    elif x==2:\n",
    "        if row_2[y]==\" \":\n",
    "            row_2[y]=\"X\"\n",
    "        else:\n",
    "            print(\"POSITION ALREADY OCCUPIED !!.....KINDLY CHOOSE ANOTHER SLOT\")\n",
    "            x,y=player_choice_x()\n",
    "            placement_of_x(x,y)\n",
    "            \n",
    "    elif x==3:\n",
    "        if row_3[y]==\" \":\n",
    "            row_3[y]=\"X\"\n",
    "        else:\n",
    "            print(\"POSITION ALREADY OCCUPIED !!.....KINDLY CHOOSE ANOTHER SLOT\")\n",
    "            x,y=player_choice_x()\n",
    "            placement_of_x(x,y)\n",
    "    else:\n",
    "        pass\n",
    "    board(row_1,row_2,row_3)\n",
    "    "
   ]
  },
  {
   "cell_type": "markdown",
   "id": "5c1993b2-1363-4210-8921-dbceb2e54fb5",
   "metadata": {},
   "source": [
    "### This Function is used to place O on the board"
   ]
  },
  {
   "cell_type": "code",
   "execution_count": 21,
   "id": "4c742ed9-14f7-4c57-8d1e-2500de754348",
   "metadata": {},
   "outputs": [],
   "source": [
    "def placement_of_o(x,y):\n",
    "    y-=1\n",
    "    if x==1:\n",
    "        if row_1[y]==\" \":\n",
    "            row_1[y]=\"O\"\n",
    "        else:\n",
    "            print(\"POSITION ALREADY OCCUPIED !!.....KINDLY CHOOSE ANOTHER SLOT\")\n",
    "            x,y=player_choice_o()\n",
    "            placement_of_o(x,y)\n",
    "    elif x==2:\n",
    "        if row_2[y]==\" \":\n",
    "            row_2[y]=\"O\"\n",
    "        else:\n",
    "            print(\"POSITION ALREADY OCCUPIED !!.....KINDLY CHOOSE ANOTHER SLOT\")\n",
    "            x,y=player_choice_o()\n",
    "            placement_of_o(x,y)\n",
    "    elif x==3:\n",
    "        if row_3[y]==\" \":\n",
    "            row_3[y]=\"O\"\n",
    "        else:\n",
    "            print(\"POSITION ALREADY OCCUPIED !!.....KINDLY CHOOSE ANOTHER SLOT\")\n",
    "            x,y=player_choice_o()\n",
    "            placement_of_o(x,y)\n",
    "    else:\n",
    "        pass\n",
    "    board(row_1,row_2,row_3)\n",
    "   "
   ]
  },
  {
   "cell_type": "markdown",
   "id": "489caef5-e388-4713-979c-c84e94f256ce",
   "metadata": {},
   "source": [
    "### This Function Checks for the Criterias for Winning and Draw"
   ]
  },
  {
   "cell_type": "code",
   "execution_count": 22,
   "id": "608e5100-f18c-4e18-ac7a-f4415ed3bc4c",
   "metadata": {},
   "outputs": [],
   "source": [
    "def winning(row_1,row_2,row_3):\n",
    "    #x row and column \n",
    "    if row_1[0]==\"X\" and row_1[1]==\"X\" and row_1[2]==\"X\":\n",
    "        return \"x wins\"\n",
    "    elif row_2[0]==\"X\" and row_2[1]==\"X\" and row_2[2]==\"X\":\n",
    "        return \"x wins\"\n",
    "    elif row_3[0]==\"X\" and row_3[1]==\"X\" and row_3[2]==\"X\":\n",
    "        return \"x wins\"\n",
    "    elif row_1[0]==\"X\" and row_2[0]==\"X\" and row_3[0]==\"X\":\n",
    "        return \"x wins\"\n",
    "    elif row_1[1]==\"X\" and row_2[1]==\"X\" and row_3[1]==\"X\":\n",
    "        return \"x wins\"\n",
    "    elif row_1[2]==\"X\" and row_2[2]==\"X\" and row_3[2]==\"X\":\n",
    "        return \"x wins\"\n",
    "    #y row and column\n",
    "    elif row_1[0]==\"O\" and row_1[1]==\"O\" and row_1[2]==\"O\":\n",
    "        return \"o wins\"\n",
    "    elif row_2[0]==\"O\" and row_2[1]==\"O\" and row_2[2]==\"O\":\n",
    "        return \"o wins\"\n",
    "    elif row_3[0]==\"O\" and row_3[1]==\"O\" and row_3[2]==\"O\":\n",
    "        return \"o wins\"\n",
    "    elif row_1[0]==\"O\" and row_2[0]==\"O\" and row_3[0]==\"O\":\n",
    "        return \"o wins\"\n",
    "    elif row_1[1]==\"O\" and row_2[1]==\"O\" and row_3[1]==\"O\":\n",
    "        return \"o wins\"\n",
    "    elif row_1[2]==\"O\" and row_2[2]==\"O\" and row_3[2]==\"O\":\n",
    "        return \"o wins\"\n",
    "    #x diagnol\n",
    "    elif row_1[0] ==\"X\" and row_2[1]==\"X\" and row_3[2]==\"X\":\n",
    "        return \"x wins\"\n",
    "    elif row_1[2] ==\"X\" and row_2[1]==\"X\" and row_3[0]==\"X\":\n",
    "        return \"x wins\"\n",
    "    # y diagnol\n",
    "    elif row_1[0] ==\"O\" and row_2[1]==\"O\" and row_3[2]==\"O\":\n",
    "        return \"o wins\"\n",
    "    elif row_1[2] ==\"O\" and row_2[1]==\"O\" and row_3[0]==\"O\":\n",
    "        return \"o wins\"\n",
    "    else:\n",
    "        return \"no winner\"\n",
    "    "
   ]
  },
  {
   "cell_type": "markdown",
   "id": "e189543a-9911-476b-af06-56d7986d8080",
   "metadata": {},
   "source": [
    "### This Function is used to display the board"
   ]
  },
  {
   "cell_type": "code",
   "execution_count": 23,
   "id": "ab656198-fc72-45ff-9336-ffb35c32ce77",
   "metadata": {},
   "outputs": [],
   "source": [
    "def board(row_1,row_2,row_3):\n",
    "    print(\"      |       |       \")\n",
    "    print(\"  {}   |   {}   |  {}   \".format(row_1[0],row_1[1],row_1[2]))\n",
    "    print(\"------|-------|-------\")\n",
    "    print(\"      |       |       \")\n",
    "    print(\"  {}   |   {}   |  {}   \".format(row_2[0],row_2[1],row_2[2]))\n",
    "    print(\"------|-------|-------\")\n",
    "    print(\"      |       |       \")\n",
    "    print(\"  {}   |   {}   |  {}   \".format(row_3[0],row_3[1],row_3[2]))\n",
    "    print(\"      |       |       \")"
   ]
  },
  {
   "cell_type": "markdown",
   "id": "189b39d4-0b54-4dc7-a5fc-1fb012714f5c",
   "metadata": {},
   "source": [
    "### A simple Function to welcome the users"
   ]
  },
  {
   "cell_type": "code",
   "execution_count": 24,
   "id": "b7543540-0103-4d38-9141-67e75f045cdb",
   "metadata": {},
   "outputs": [],
   "source": [
    "def welcome():\n",
    "    print (\"TIC TAC TOE\")\n",
    "    print (\" Player 1 takes [X] and Player 2 takes [Y] \")\n",
    "    \n",
    "    "
   ]
  },
  {
   "cell_type": "markdown",
   "id": "a12ecb74-c3b9-4916-a467-c6ff663e45ea",
   "metadata": {},
   "source": [
    "### This Function contains the overall game logic"
   ]
  },
  {
   "cell_type": "code",
   "execution_count": 29,
   "id": "c2fb1854-455a-4f35-9ac5-c69d41a5ca44",
   "metadata": {},
   "outputs": [],
   "source": [
    "def game():\n",
    "    \n",
    "    welcome()\n",
    "    option = \"Y\"\n",
    "    moves=0\n",
    "    board(row_1,row_2,row_3)\n",
    "    while option not in ['N']:\n",
    "        option = input(\"READY TO MAKE YOUR MOVE [Y/N] :\")\n",
    "        option= option.upper()\n",
    "        if option == \"Y\" :\n",
    "    \n",
    "                    print(\"PLAYER 1 (X) MAKE YOUR MOVE \\n\")\n",
    "                    x,y = player_choice_x()\n",
    "                    placement_of_x(x,y)\n",
    "                    moves+=1\n",
    "                    result = winning(row_1,row_2,row_3)\n",
    "                    \n",
    "                    \n",
    "                    if result ==\"x wins\":\n",
    "                        print(\"PLAYER 1[X] WON!!!\")\n",
    "                        break\n",
    "                    elif moves == 9 and result == \"no winner\":\n",
    "                        print(\"GAME ENDS IN A DRAW!!!!\")\n",
    "                        break\n",
    "                    else: pass\n",
    "                    print(\"PLAYER 2 (Y) MAKE YOUR MOVE \\n\")\n",
    "                    x,y = player_choice_o()\n",
    "                    placement_of_o(x,y)\n",
    "                    moves+=1\n",
    "                    \n",
    "                    result = winning(row_1,row_2,row_3)\n",
    "                    if result ==\"o wins\":\n",
    "                        print(\"PLAYER 2[O] WON!!!\")\n",
    "                        break\n",
    "                    elif moves == 9 and result == \"no winner\":\n",
    "                        print(\"GAME ENDS IN A DRAW!!!!\")\n",
    "                        break\n",
    "                    else: pass\n",
    "            \n",
    "        elif option=='N':\n",
    "                    current_mood = 'Y'\n",
    "                    while current_mood not in ['N']:\n",
    "                        current_mood = input(\"Do you want to terminate the game [Y/N]\")\n",
    "                        current_mood = current_mood.upper()\n",
    "                        if current_mood =='N':\n",
    "                            game()\n",
    "                        else :\n",
    "                            print(\"GAME DISMISSED !!!!!\")\n",
    "                            break\n",
    "        else:\n",
    "                    pass\n",
    "        \n",
    "                       \n",
    "        \n",
    "        "
   ]
  },
  {
   "cell_type": "markdown",
   "id": "d71adeb2-4364-41b1-a89b-464383612821",
   "metadata": {},
   "source": [
    "### Play the GAME!!!!"
   ]
  },
  {
   "cell_type": "code",
   "execution_count": 30,
   "id": "d95b8791-4b97-47d2-bc1d-b7b9069d3146",
   "metadata": {},
   "outputs": [
    {
     "name": "stdout",
     "output_type": "stream",
     "text": [
      "TIC TAC TOE\n",
      " Player 1 takes [X] and Player 2 takes [Y] \n",
      "      |       |       \n",
      "      |       |      \n",
      "------|-------|-------\n",
      "      |       |       \n",
      "      |       |      \n",
      "------|-------|-------\n",
      "      |       |       \n",
      "      |       |      \n",
      "      |       |       \n"
     ]
    },
    {
     "name": "stdin",
     "output_type": "stream",
     "text": [
      "READY TO MAKE YOUR MOVE [Y/N] : y\n"
     ]
    },
    {
     "name": "stdout",
     "output_type": "stream",
     "text": [
      "PLAYER 1 (X) MAKE YOUR MOVE \n",
      "\n"
     ]
    },
    {
     "name": "stdin",
     "output_type": "stream",
     "text": [
      "Enter the row you want to place (1,2 or 3: 1\n",
      "Enter the col you want to place (1,2 or 3: 1\n"
     ]
    },
    {
     "name": "stdout",
     "output_type": "stream",
     "text": [
      "      |       |       \n",
      "  X   |       |      \n",
      "------|-------|-------\n",
      "      |       |       \n",
      "      |       |      \n",
      "------|-------|-------\n",
      "      |       |       \n",
      "      |       |      \n",
      "      |       |       \n",
      "PLAYER 2 (Y) MAKE YOUR MOVE \n",
      "\n"
     ]
    },
    {
     "name": "stdin",
     "output_type": "stream",
     "text": [
      "Enter the row you want to place (1,2 or 3: 2\n",
      "Enter the col you want to place (1,2 or 3: 2\n"
     ]
    },
    {
     "name": "stdout",
     "output_type": "stream",
     "text": [
      "      |       |       \n",
      "  X   |       |      \n",
      "------|-------|-------\n",
      "      |       |       \n",
      "      |   O   |      \n",
      "------|-------|-------\n",
      "      |       |       \n",
      "      |       |      \n",
      "      |       |       \n"
     ]
    },
    {
     "name": "stdin",
     "output_type": "stream",
     "text": [
      "READY TO MAKE YOUR MOVE [Y/N] : y\n"
     ]
    },
    {
     "name": "stdout",
     "output_type": "stream",
     "text": [
      "PLAYER 1 (X) MAKE YOUR MOVE \n",
      "\n"
     ]
    },
    {
     "name": "stdin",
     "output_type": "stream",
     "text": [
      "Enter the row you want to place (1,2 or 3: 1\n",
      "Enter the col you want to place (1,2 or 3: 5\n",
      "Enter the col you want to place (1,2 or 3: 3\n"
     ]
    },
    {
     "name": "stdout",
     "output_type": "stream",
     "text": [
      "      |       |       \n",
      "  X   |       |  X   \n",
      "------|-------|-------\n",
      "      |       |       \n",
      "      |   O   |      \n",
      "------|-------|-------\n",
      "      |       |       \n",
      "      |       |      \n",
      "      |       |       \n",
      "PLAYER 2 (Y) MAKE YOUR MOVE \n",
      "\n"
     ]
    },
    {
     "name": "stdin",
     "output_type": "stream",
     "text": [
      "Enter the row you want to place (1,2 or 3: 1\n",
      "Enter the col you want to place (1,2 or 3: 2\n"
     ]
    },
    {
     "name": "stdout",
     "output_type": "stream",
     "text": [
      "      |       |       \n",
      "  X   |   O   |  X   \n",
      "------|-------|-------\n",
      "      |       |       \n",
      "      |   O   |      \n",
      "------|-------|-------\n",
      "      |       |       \n",
      "      |       |      \n",
      "      |       |       \n"
     ]
    },
    {
     "name": "stdin",
     "output_type": "stream",
     "text": [
      "READY TO MAKE YOUR MOVE [Y/N] : y\n"
     ]
    },
    {
     "name": "stdout",
     "output_type": "stream",
     "text": [
      "PLAYER 1 (X) MAKE YOUR MOVE \n",
      "\n"
     ]
    },
    {
     "name": "stdin",
     "output_type": "stream",
     "text": [
      "Enter the row you want to place (1,2 or 3: 3\n",
      "Enter the col you want to place (1,2 or 3: 1\n"
     ]
    },
    {
     "name": "stdout",
     "output_type": "stream",
     "text": [
      "      |       |       \n",
      "  X   |   O   |  X   \n",
      "------|-------|-------\n",
      "      |       |       \n",
      "      |   O   |      \n",
      "------|-------|-------\n",
      "      |       |       \n",
      "  X   |       |      \n",
      "      |       |       \n",
      "PLAYER 2 (Y) MAKE YOUR MOVE \n",
      "\n"
     ]
    },
    {
     "name": "stdin",
     "output_type": "stream",
     "text": [
      "Enter the row you want to place (1,2 or 3: 3\n",
      "Enter the col you want to place (1,2 or 3: 2\n"
     ]
    },
    {
     "name": "stdout",
     "output_type": "stream",
     "text": [
      "      |       |       \n",
      "  X   |   O   |  X   \n",
      "------|-------|-------\n",
      "      |       |       \n",
      "      |   O   |      \n",
      "------|-------|-------\n",
      "      |       |       \n",
      "  X   |   O   |      \n",
      "      |       |       \n",
      "PLAYER 2[O] WON!!!\n"
     ]
    }
   ],
   "source": [
    "row_1=[\" \",\" \",\" \"]\n",
    "row_2=[\" \",\" \",\" \"]\n",
    "row_3=[\" \",\" \",\" \"]\n",
    "game()"
   ]
  },
  {
   "cell_type": "code",
   "execution_count": null,
   "id": "2d4c7eb4-c86e-46bd-adb2-2bbc83203498",
   "metadata": {},
   "outputs": [],
   "source": []
  }
 ],
 "metadata": {
  "kernelspec": {
   "display_name": "Python 3 (ipykernel)",
   "language": "python",
   "name": "python3"
  },
  "language_info": {
   "codemirror_mode": {
    "name": "ipython",
    "version": 3
   },
   "file_extension": ".py",
   "mimetype": "text/x-python",
   "name": "python",
   "nbconvert_exporter": "python",
   "pygments_lexer": "ipython3",
   "version": "3.12.4"
  }
 },
 "nbformat": 4,
 "nbformat_minor": 5
}
